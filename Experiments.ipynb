{
 "cells": [
  {
   "cell_type": "code",
   "execution_count": 1,
   "metadata": {},
   "outputs": [
    {
     "name": "stdout",
     "output_type": "stream",
     "text": [
      "0    0.00\n",
      "1    0.40\n",
      "2    1.00\n",
      "3    0.20\n",
      "4    0.44\n",
      "5    0.58\n",
      "Name: normalized_a, dtype: float64\n",
      "      a       b         c  normalized_a\n",
      "0  0.00  0.0000  0.000000          0.00\n",
      "1  0.40  0.1875  0.416667          0.40\n",
      "2  1.00  0.1500  0.166667          1.00\n",
      "3  0.20  0.1375  1.000000          0.20\n",
      "4  0.44  1.0000  0.033333          0.44\n",
      "5  0.58  0.0500  0.000000          0.58\n",
      "[[0.         0.         0.         0.        ]\n",
      " [0.4        0.1875     0.41666667 0.4       ]\n",
      " [1.         0.15       0.16666667 1.        ]\n",
      " [0.2        0.1375     1.         0.2       ]\n",
      " [0.44       1.         0.03333333 0.44      ]\n",
      " [0.58       0.05       0.         0.58      ]]\n"
     ]
    }
   ],
   "source": [
    "import pandas as pd\n",
    "\n",
    "df = pd.DataFrame([\n",
    "    { 'a': 0, 'b': 0, 'c': 0 },\n",
    "    { 'a': 2, 'b': 1.5, 'c': 2.5 },\n",
    "    { 'a': 5, 'b': 1.2, 'c': 1 },\n",
    "    { 'a': 1, 'b': 1.1, 'c': 6 },\n",
    "    { 'a': 2.2, 'b': 8, 'c': 0.2 },\n",
    "    { 'a': 2.9, 'b': 0.4, 'c': 0 },\n",
    "])\n",
    "\n",
    "df['normalized_a'] = (df['a'] - df['a'].min()) / (df['a'].max() - df['a'].min())\n",
    "\n",
    "print(df['normalized_a'])\n",
    "\n",
    "from lib.data.features.transform import max_min_normalize\n",
    "\n",
    "df_max_min = max_min_normalize(df)\n",
    "df_max_min_list = max_min_normalize(df.values)\n",
    "\n",
    "print(df_max_min)\n",
    "print(df_max_min_list)"
   ]
  },
  {
   "cell_type": "code",
   "execution_count": 2,
   "metadata": {},
   "outputs": [
    {
     "ename": "ValueError",
     "evalue": "Invalid \"csv_data_path\" argument passed to StaticDataProvider, file could not be found.",
     "output_type": "error",
     "traceback": [
      "\u001b[1;31m---------------------------------------------------------------------------\u001b[0m",
      "\u001b[1;31mValueError\u001b[0m                                Traceback (most recent call last)",
      "\u001b[1;32m<ipython-input-2-c130783860ea>\u001b[0m in \u001b[0;36m<module>\u001b[1;34m\u001b[0m\n\u001b[0;32m      7\u001b[0m provider = StaticDataProvider(date_format=ProviderDateFormat.DATETIME_HOUR_24,\n\u001b[0;32m      8\u001b[0m                               \u001b[0mcsv_data_path\u001b[0m\u001b[1;33m=\u001b[0m\u001b[1;34m\"/Users/Adam/Desktop/YouTube/BitcoinTrader/data/input/coinbase-1d-btc-usd.csv\"\u001b[0m\u001b[1;33m,\u001b[0m\u001b[1;33m\u001b[0m\u001b[1;33m\u001b[0m\u001b[0m\n\u001b[1;32m----> 9\u001b[1;33m                               data_columns=data_columns)\n\u001b[0m\u001b[0;32m     10\u001b[0m \u001b[1;33m\u001b[0m\u001b[0m\n\u001b[0;32m     11\u001b[0m \u001b[0mprint\u001b[0m\u001b[1;33m(\u001b[0m\u001b[0mprovider\u001b[0m\u001b[1;33m.\u001b[0m\u001b[0mdata_frame\u001b[0m\u001b[1;33m.\u001b[0m\u001b[0mhead\u001b[0m\u001b[1;33m(\u001b[0m\u001b[1;33m)\u001b[0m\u001b[1;33m)\u001b[0m\u001b[1;33m\u001b[0m\u001b[1;33m\u001b[0m\u001b[0m\n",
      "\u001b[1;32mD:\\Original_RLTrader-master\\lib\\data\\providers\\StaticDataProvider.py\u001b[0m in \u001b[0;36m__init__\u001b[1;34m(self, date_format, data_frame, csv_data_path, skip_prepare_data, **kwargs)\u001b[0m\n\u001b[0;32m     21\u001b[0m             \u001b[1;32mif\u001b[0m \u001b[1;32mnot\u001b[0m \u001b[0mos\u001b[0m\u001b[1;33m.\u001b[0m\u001b[0mpath\u001b[0m\u001b[1;33m.\u001b[0m\u001b[0misfile\u001b[0m\u001b[1;33m(\u001b[0m\u001b[0mcsv_data_path\u001b[0m\u001b[1;33m)\u001b[0m\u001b[1;33m:\u001b[0m\u001b[1;33m\u001b[0m\u001b[1;33m\u001b[0m\u001b[0m\n\u001b[0;32m     22\u001b[0m                 raise ValueError(\n\u001b[1;32m---> 23\u001b[1;33m                     'Invalid \"csv_data_path\" argument passed to StaticDataProvider, file could not be found.')\n\u001b[0m\u001b[0;32m     24\u001b[0m \u001b[1;33m\u001b[0m\u001b[0m\n\u001b[0;32m     25\u001b[0m             \u001b[0mself\u001b[0m\u001b[1;33m.\u001b[0m\u001b[0mdata_frame\u001b[0m \u001b[1;33m=\u001b[0m \u001b[0mpd\u001b[0m\u001b[1;33m.\u001b[0m\u001b[0mread_csv\u001b[0m\u001b[1;33m(\u001b[0m\u001b[0mcsv_data_path\u001b[0m\u001b[1;33m)\u001b[0m\u001b[1;33m\u001b[0m\u001b[1;33m\u001b[0m\u001b[0m\n",
      "\u001b[1;31mValueError\u001b[0m: Invalid \"csv_data_path\" argument passed to StaticDataProvider, file could not be found."
     ]
    }
   ],
   "source": [
    "from lib.data.providers import ProviderDateFormat, StaticDataProvider\n",
    "from lib.data.features.transform import max_min_normalize, log_and_difference\n",
    "\n",
    "data_columns = {'Date': 'Date', 'Open': 'Open', 'High': 'High',\n",
    "                            'Low': 'Low', 'Close': 'Close', 'Volume': 'VolumeFrom'}\n",
    "\n",
    "provider = StaticDataProvider(date_format=ProviderDateFormat.DATETIME_HOUR_24,\n",
    "                              csv_data_path=\"/Users/Adam/Desktop/YouTube/BitcoinTrader/data/input/coinbase-1d-btc-usd.csv\",\n",
    "                              data_columns=data_columns)\n",
    "\n",
    "print(provider.data_frame.head())\n",
    "\n",
    "logged_and_diffed = log_and_difference(provider.data_frame)\n",
    "\n",
    "print(logged_and_diffed.head())\n",
    "\n",
    "normalized = max_min_normalize(provider.data_frame)\n",
    "\n",
    "print(normalized.head())"
   ]
  },
  {
   "cell_type": "code",
   "execution_count": 3,
   "metadata": {},
   "outputs": [
    {
     "name": "stdout",
     "output_type": "stream",
     "text": [
      "[[-3.]\n",
      " [-3.]\n",
      " [ 5.]\n",
      " [ 1.]\n",
      " [ 1.]]\n"
     ]
    },
    {
     "ename": "NameError",
     "evalue": "name 'logged' is not defined",
     "output_type": "error",
     "traceback": [
      "\u001b[1;31m---------------------------------------------------------------------------\u001b[0m",
      "\u001b[1;31mNameError\u001b[0m                                 Traceback (most recent call last)",
      "\u001b[1;32m<ipython-input-3-fc176ed7ffdc>\u001b[0m in \u001b[0;36m<module>\u001b[1;34m\u001b[0m\n\u001b[0;32m      9\u001b[0m \u001b[0mprint\u001b[0m\u001b[1;33m(\u001b[0m\u001b[0mdiffed\u001b[0m\u001b[1;33m)\u001b[0m\u001b[1;33m\u001b[0m\u001b[1;33m\u001b[0m\u001b[0m\n\u001b[0;32m     10\u001b[0m \u001b[1;33m\u001b[0m\u001b[0m\n\u001b[1;32m---> 11\u001b[1;33m \u001b[0mnormed\u001b[0m \u001b[1;33m=\u001b[0m \u001b[0mmax_min_normalize\u001b[0m\u001b[1;33m(\u001b[0m\u001b[0mlogged\u001b[0m\u001b[1;33m)\u001b[0m\u001b[1;33m\u001b[0m\u001b[1;33m\u001b[0m\u001b[0m\n\u001b[0m\u001b[0;32m     12\u001b[0m \u001b[1;33m\u001b[0m\u001b[0m\n\u001b[0;32m     13\u001b[0m \u001b[0mprint\u001b[0m\u001b[1;33m(\u001b[0m\u001b[0mnormed\u001b[0m\u001b[1;33m)\u001b[0m\u001b[1;33m\u001b[0m\u001b[1;33m\u001b[0m\u001b[0m\n",
      "\u001b[1;31mNameError\u001b[0m: name 'logged' is not defined"
     ]
    }
   ],
   "source": [
    "import numpy as np\n",
    "\n",
    "from lib.data.features.transform import log_and_difference, max_min_normalize, difference\n",
    "\n",
    "items = [1, -2, 3, 4, 5]\n",
    "\n",
    "diffed = difference(items, inplace=False)\n",
    "\n",
    "print(diffed)\n",
    "\n",
    "normed = max_min_normalize(logged)\n",
    "\n",
    "print(normed)\n",
    "\n",
    "raveled = np.ravel(normed, order='F')\n",
    "\n",
    "print(raveled)"
   ]
  },
  {
   "cell_type": "code",
   "execution_count": null,
   "metadata": {},
   "outputs": [],
   "source": []
  }
 ],
 "metadata": {
  "kernelspec": {
   "display_name": "Python 3",
   "language": "python",
   "name": "python3"
  },
  "language_info": {
   "codemirror_mode": {
    "name": "ipython",
    "version": 3
   },
   "file_extension": ".py",
   "mimetype": "text/x-python",
   "name": "python",
   "nbconvert_exporter": "python",
   "pygments_lexer": "ipython3",
   "version": "3.7.7"
  }
 },
 "nbformat": 4,
 "nbformat_minor": 2
}
